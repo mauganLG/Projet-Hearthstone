{
 "cells": [
  {
   "cell_type": "code",
   "execution_count": 61,
   "metadata": {},
   "outputs": [],
   "source": [
    "import pandas as pd"
   ]
  },
  {
   "cell_type": "markdown",
   "metadata": {},
   "source": [
    "### A partir d'un dataFrame cette methode va récuperer toute les cartes joués et en faire des phrases qui seront en suite passé à l'algorithme word2vec\n",
    "\n",
    "### A games \n",
    "### On prend la colonne games\n",
    "\n",
    "### A partir de card_history\n",
    "### on recupere l'historique des cartes sorties pour chaque partie On filtre si le champs card_history existe ou si il est vide\n",
    "\n",
    "### A partir de sentances\n",
    "### Pour chaque partie on rassemble toutes les cartes sorties par \"me\" et \"opponent\", puis on recupère le nom des cartes pour crée des phrases.\n"
   ]
  },
  {
   "cell_type": "code",
   "execution_count": null,
   "metadata": {},
   "outputs": [],
   "source": [
    "def createsentances(data):\n",
    "    games = data[\"games\"]\n",
    "    cards = [e[\"card_history\"] for e in games if e.has_key(\"card_history\") and e[\"card_history\"]!=[]]\n",
    "    sentances = []\n",
    "    for c in cards:\n",
    "        sentances.append([e[\"card\"][\"name\"]for e in c if e[\"player\"] == \"me\"])\n",
    "        sentances.append([e[\"card\"][\"name\"]for e in c if e[\"player\"] == \"opponent\"])\n",
    "    return sentances"
   ]
  },
  {
   "cell_type": "markdown",
   "metadata": {},
   "source": [
    "creation de phrase a partir de plusieurs fichier json\n",
    "listfile est une liste de fichier avec leur chemin"
   ]
  },
  {
   "cell_type": "code",
   "execution_count": null,
   "metadata": {},
   "outputs": [],
   "source": [
    "def createsentancesfiles(listfile):\n",
    "    sentances = []\n",
    "    for l in listfile:\n",
    "        data=pd.read_json(l)\n",
    "        sentances += createsentances(data)\n",
    "        del data\n",
    "    return sentances"
   ]
  },
  {
   "cell_type": "code",
   "execution_count": null,
   "metadata": {},
   "outputs": [],
   "source": [
    "directoryHearthstoneGames = \"HeathstoneGames/\"\n",
    "from os import listdir\n",
    "from os.path import isfile, join\n",
    "filesHearthstoneGames = [directoryHearthstoneGames+f for f in listdir(directoryHearthstoneGames) if isfile(join(directoryHearthstoneGames, f))]\n"
   ]
  },
  {
   "cell_type": "code",
   "execution_count": null,
   "metadata": {},
   "outputs": [],
   "source": [
    "sentances = createsentancesfiles(filesHearthstoneGames)"
   ]
  },
  {
   "cell_type": "code",
   "execution_count": 62,
   "metadata": {},
   "outputs": [],
   "source": [
    "data = pd.read_json(\"2018-01.zip\");"
   ]
  },
  {
   "cell_type": "code",
   "execution_count": null,
   "metadata": {},
   "outputs": [],
   "source": [
    "sentances = createsentances(data)"
   ]
  },
  {
   "cell_type": "markdown",
   "metadata": {},
   "source": [
    "\n",
    "# Je prend l'url avec collectible car je ne veux que les cartes disponibles pour faire un deck"
   ]
  },
  {
   "cell_type": "code",
   "execution_count": 39,
   "metadata": {},
   "outputs": [],
   "source": [
    "import requests\n",
    "\n",
    "urlApi = \"https://api.hearthstonejson.com/v1/latest/enUS/cards.collectible.json\"\n",
    "\n",
    "ApiHearthStone = requests.get(urlApi).json()"
   ]
  },
  {
   "cell_type": "code",
   "execution_count": 6,
   "metadata": {},
   "outputs": [],
   "source": [
    "listNameCard = [e[\"name\"] for e in ApiHearthStone]"
   ]
  },
  {
   "cell_type": "markdown",
   "metadata": {},
   "source": [
    "on filtre les cartes des parties à seulement celle disponible pour la construction de deck"
   ]
  },
  {
   "cell_type": "code",
   "execution_count": null,
   "metadata": {},
   "outputs": [],
   "source": [
    "sentances = [filter(lambda x: x in listNameCard, e) for e in sentances]"
   ]
  },
  {
   "cell_type": "markdown",
   "metadata": {},
   "source": [
    "# On va utilisier gensim et plus particulièrement l'algo Word2vec"
   ]
  },
  {
   "cell_type": "code",
   "execution_count": 5,
   "metadata": {},
   "outputs": [],
   "source": [
    "from gensim.models import Word2Vec"
   ]
  },
  {
   "cell_type": "markdown",
   "metadata": {},
   "source": [
    "max_count exclue les mots dont leur nombre d'apparition est inférieure à celui indiqué\n",
    "size nombre de noeuds\n",
    "workers paralléliser sur un nombres de coeurs\n",
    "ier nombre d'epochs"
   ]
  },
  {
   "cell_type": "code",
   "execution_count": null,
   "metadata": {},
   "outputs": [],
   "source": [
    "model = Word2Vec(sentances,min_count=10,size=200,workers=4,iter=100)"
   ]
  },
  {
   "cell_type": "markdown",
   "metadata": {},
   "source": [
    "sauvegarde du model"
   ]
  },
  {
   "cell_type": "code",
   "execution_count": null,
   "metadata": {},
   "outputs": [],
   "source": [
    "model.save(\"word2vecModel\")"
   ]
  },
  {
   "cell_type": "markdown",
   "metadata": {},
   "source": [
    "charger le modele entrainer et de continuer l'entrainement"
   ]
  },
  {
   "cell_type": "code",
   "execution_count": 6,
   "metadata": {},
   "outputs": [],
   "source": [
    "model = Word2Vec.load(\"word2vecModel\")"
   ]
  },
  {
   "cell_type": "code",
   "execution_count": 53,
   "metadata": {},
   "outputs": [
    {
     "data": {
      "text/plain": [
       "[u'PALADIN', u'DRUID', u'DRUID', u'DRUID', u'PALADIN']"
      ]
     },
     "execution_count": 53,
     "metadata": {},
     "output_type": "execute_result"
    }
   ],
   "source": [
    "s =[]\n",
    "for e,_ in t: \n",
    "  s +=[i[\"cardClass\"] for i in ApiHearthStone if i[\"name\"]==e]\n",
    "s"
   ]
  },
  {
   "cell_type": "code",
   "execution_count": null,
   "metadata": {},
   "outputs": [],
   "source": [
    "model.wv.vocab.keys()"
   ]
  },
  {
   "cell_type": "markdown",
   "metadata": {},
   "source": [
    "proposition de cartes si deck 30 ou plus aucune proposition"
   ]
  },
  {
   "cell_type": "markdown",
   "metadata": {},
   "source": [
    "negative si cardClass différent \n",
    "meme classes de carte que le heros sauf neutral\n",
    "regler probleme cartes cardClass diférente"
   ]
  },
  {
   "cell_type": "code",
   "execution_count": 7,
   "metadata": {},
   "outputs": [],
   "source": [
    "def proposeCards(uncompletedDeck,model,nbcartes=2):\n",
    "    cardClass = \"\"\n",
    "    uncompletedDeckInside =  list(uncompletedDeck)\n",
    "    numberMaxCards = 30\n",
    "    if nbcartes>10:\n",
    "        nbcartes = 10\n",
    "    if len(uncompletedDeckInside) >= numberMaxCards:\n",
    "        return\n",
    "      \n",
    "    while len(uncompletedDeckInside)<numberMaxCards:\n",
    "        proposes = model.wv.most_similar(positive=uncompletedDeckInside,topn=5)\n",
    "        diff = numberMaxCards-len(uncompletedDeckInside)\n",
    "        if diff < nbcartes :\n",
    "            p = proposes[:diff]\n",
    "        else: \n",
    "            p = proposes[:nbcartes]\n",
    "        \n",
    "        p = [x[0] for x in p]\n",
    "        uncompletedDeckInside += p  \n",
    "    return uncompletedDeckInside"
   ]
  },
  {
   "cell_type": "code",
   "execution_count": 26,
   "metadata": {},
   "outputs": [],
   "source": [
    "myuncompletedDeck = [\"Swipe\",\"Equality\"]\n",
    "\n",
    "#decks = proposeCards(myuncompletedDeck,model,nbcartes=4)\n",
    "decks=[]\n",
    "for i in range(1,6):\n",
    "    decks.append(proposeCards(myuncompletedDeck,model,nbcartes=i))"
   ]
  },
  {
   "cell_type": "code",
   "execution_count": 42,
   "metadata": {},
   "outputs": [
    {
     "data": {
      "text/plain": [
       "[u'PALADIN',\n",
       " u'PALADIN',\n",
       " u'PALADIN',\n",
       " u'PALADIN',\n",
       " u'DRUID',\n",
       " u'DRUID',\n",
       " u'PALADIN',\n",
       " u'PALADIN',\n",
       " u'PALADIN',\n",
       " u'PALADIN',\n",
       " u'PALADIN',\n",
       " u'PALADIN',\n",
       " u'DRUID',\n",
       " u'DRUID',\n",
       " u'DRUID',\n",
       " u'PALADIN',\n",
       " u'PALADIN',\n",
       " u'PALADIN',\n",
       " u'PALADIN',\n",
       " u'PALADIN',\n",
       " u'PALADIN',\n",
       " u'PALADIN',\n",
       " u'PALADIN',\n",
       " u'PALADIN',\n",
       " u'DRUID',\n",
       " u'PALADIN',\n",
       " u'PALADIN',\n",
       " u'PALADIN',\n",
       " u'PALADIN',\n",
       " u'PALADIN']"
      ]
     },
     "execution_count": 42,
     "metadata": {},
     "output_type": "execute_result"
    }
   ],
   "source": [
    "[i[\"cardClass\"] for i in ApiHearthStone if i[\"name\"] in decks[1]]"
   ]
  },
  {
   "cell_type": "code",
   "execution_count": 34,
   "metadata": {},
   "outputs": [
    {
     "data": {
      "text/plain": [
       "['Swipe',\n",
       " 'Equality',\n",
       " u'Aldor Peacekeeper',\n",
       " u'Innervate',\n",
       " u'Consecration',\n",
       " u'Wild Growth',\n",
       " u'Wrath',\n",
       " u'Truesilver Champion',\n",
       " u'Tirion Fordring',\n",
       " u'Feral Rage',\n",
       " u'Ragnaros, Lightlord',\n",
       " u'Nourish',\n",
       " u'Forbidden Healing',\n",
       " u'Ivory Knight',\n",
       " u'Wickerflame Burnbristle',\n",
       " u'Solemn Vigil',\n",
       " u'Lay on Hands',\n",
       " u'Humility',\n",
       " u'Spikeridged Steed',\n",
       " u'Uther of the Ebon Blade',\n",
       " u'Grimestreet Protector',\n",
       " u'Hammer of Wrath',\n",
       " u'Keeper of Uldaman',\n",
       " u'Rallying Blade',\n",
       " u'Sunkeeper Tarim',\n",
       " u'Repentance',\n",
       " u'Redemption',\n",
       " u'Blessing of Kings',\n",
       " u'Noble Sacrifice',\n",
       " u'Getaway Kodo']"
      ]
     },
     "execution_count": 34,
     "metadata": {},
     "output_type": "execute_result"
    }
   ],
   "source": [
    "decks[1]"
   ]
  },
  {
   "cell_type": "markdown",
   "metadata": {},
   "source": [
    "cardClassDecide = []\n",
    "    for e in uncompletedDeck:\n",
    "       cardClassDecide += [i[\"cardClass\"] for i in apiHS if i[\"name\"]==e]"
   ]
  }
 ],
 "metadata": {
  "kernelspec": {
   "display_name": "Python 2",
   "language": "python",
   "name": "python2"
  },
  "language_info": {
   "codemirror_mode": {
    "name": "ipython",
    "version": 2
   },
   "file_extension": ".py",
   "mimetype": "text/x-python",
   "name": "python",
   "nbconvert_exporter": "python",
   "pygments_lexer": "ipython2",
   "version": "2.7.12"
  }
 },
 "nbformat": 4,
 "nbformat_minor": 2
}
