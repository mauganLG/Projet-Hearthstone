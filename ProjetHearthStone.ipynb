{
 "cells": [
  {
   "cell_type": "code",
   "execution_count": 1,
   "metadata": {},
   "outputs": [],
   "source": [
    "import pandas as pd"
   ]
  },
  {
   "cell_type": "markdown",
   "metadata": {},
   "source": [
    "### A partir d'un dataFrame cette methode va récuperer toute les cartes joués et en faire des phrases qui seront en suite passé à l'algorithme word2vec\n",
    "\n",
    "### A games \n",
    "### On prend la colonne games\n",
    "\n",
    "### A partir de card_history\n",
    "### on recupere l'historique des cartes sorties pour chaque partie On filtre si le champs card_history existe ou si il est vide\n",
    "\n",
    "### A partir de sentances\n",
    "### Pour chaque partie on rassemble toutes les cartes sorties par \"me\" et \"opponent\", puis on recupère le nom des cartes pour crée des phrases.\n"
   ]
  },
  {
   "cell_type": "code",
   "execution_count": 2,
   "metadata": {},
   "outputs": [],
   "source": [
    "def createsentances(data):\n",
    "    games = data[\"games\"]\n",
    "    card_history = []\n",
    "    for i in range(len(games)):\n",
    "        g = games[i]\n",
    "        if not(g.has_key(\"card_history\")) or g[\"card_history\"] != []:\n",
    "            card_history.append(pd.DataFrame(g[\"card_history\"]))\n",
    "    sentances = []\n",
    "    for i in range(len(card_history)):\n",
    "        c = card_history[i]\n",
    "        me = c[c.player==\"me\"]\n",
    "        op = c[c.player==\"opponent\"]\n",
    "        me = me[\"card\"]\n",
    "        op = op['card']\n",
    "        sentances.append([i[\"name\"] for i in me])\n",
    "        sentances.append([i[\"name\"] for i in op])\n",
    "    return sentances"
   ]
  },
  {
   "cell_type": "code",
   "execution_count": 3,
   "metadata": {},
   "outputs": [],
   "source": [
    "data = pd.read_json(\"2018-01.json\");"
   ]
  },
  {
   "cell_type": "code",
   "execution_count": 4,
   "metadata": {},
   "outputs": [],
   "source": [
    "sentances = createsentances(data)"
   ]
  },
  {
   "cell_type": "markdown",
   "metadata": {},
   "source": [
    "\n",
    "# Je prend l'url avec collectible car je ne veux que les cartes disponibles pour faire un deck"
   ]
  },
  {
   "cell_type": "code",
   "execution_count": 13,
   "metadata": {},
   "outputs": [],
   "source": [
    "import requests\n",
    "\n",
    "urlApi = \"https://api.hearthstonejson.com/v1/latest/enUS/cards.collectible.json\"\n",
    "\n",
    "ApiHeartStone = requests.get(urlApi).json()"
   ]
  },
  {
   "cell_type": "code",
   "execution_count": 14,
   "metadata": {},
   "outputs": [],
   "source": [
    "listNameCard = [e[\"name\"] for e in ApiHeartStone]"
   ]
  },
  {
   "cell_type": "markdown",
   "metadata": {},
   "source": [
    "on filtre les cartes des parties à seulement celle disponible pour la construction de deck"
   ]
  },
  {
   "cell_type": "code",
   "execution_count": 15,
   "metadata": {},
   "outputs": [],
   "source": [
    "sentancesFiltered = [filter(lambda x: x in listNameCard, e) for e in sentances]"
   ]
  },
  {
   "cell_type": "markdown",
   "metadata": {},
   "source": [
    "# On va utilisier gensim et plus particulièrement l'algo Word2vec"
   ]
  },
  {
   "cell_type": "code",
   "execution_count": 16,
   "metadata": {},
   "outputs": [],
   "source": [
    "from gensim.models import Word2Vec"
   ]
  },
  {
   "cell_type": "markdown",
   "metadata": {},
   "source": [
    "max_count exclue les mots dont leur nombre d'aaparition est inférieire à celui indiqué\n",
    "size nombre de layers\n",
    "workers parallélizer sur un nombre de coeurs"
   ]
  },
  {
   "cell_type": "code",
   "execution_count": 17,
   "metadata": {},
   "outputs": [],
   "source": [
    "model = Word2Vec(sentancesFiltered,min_count=10,size=200,workers=4)"
   ]
  },
  {
   "cell_type": "markdown",
   "metadata": {},
   "source": [
    "sauvegarde du model"
   ]
  },
  {
   "cell_type": "code",
   "execution_count": 18,
   "metadata": {},
   "outputs": [],
   "source": [
    "model.save(\"word2vecModel\")"
   ]
  },
  {
   "cell_type": "markdown",
   "metadata": {},
   "source": [
    "charger le modele entrainer et de continuer l'entrainement\n",
    "model = gensim.models.Word2Vec.load('word2vecModel')\n",
    "model.train(more_sentences)"
   ]
  },
  {
   "cell_type": "markdown",
   "metadata": {},
   "source": [
    "test de la  similarité"
   ]
  },
  {
   "cell_type": "code",
   "execution_count": 19,
   "metadata": {},
   "outputs": [
    {
     "data": {
      "text/plain": [
       "0.4985665814165212"
      ]
     },
     "execution_count": 19,
     "metadata": {},
     "output_type": "execute_result"
    }
   ],
   "source": [
    "model.wv.similarity(\"Open the Waygate\",\"Fireball\")"
   ]
  }
 ],
 "metadata": {
  "kernelspec": {
   "display_name": "Python 2",
   "language": "python",
   "name": "python2"
  },
  "language_info": {
   "codemirror_mode": {
    "name": "ipython",
    "version": 2
   },
   "file_extension": ".py",
   "mimetype": "text/x-python",
   "name": "python",
   "nbconvert_exporter": "python",
   "pygments_lexer": "ipython2",
   "version": "2.7.12"
  }
 },
 "nbformat": 4,
 "nbformat_minor": 2
}
