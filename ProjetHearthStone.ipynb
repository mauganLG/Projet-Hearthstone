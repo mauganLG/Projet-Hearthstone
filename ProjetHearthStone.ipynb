{
 "cells": [
  {
   "cell_type": "code",
   "execution_count": 61,
   "metadata": {},
   "outputs": [],
   "source": [
    "import pandas as pd"
   ]
  },
  {
   "cell_type": "markdown",
   "metadata": {},
   "source": [
    "### A partir d'un dataFrame cette methode va récuperer toute les cartes joués et en faire des phrases qui seront en suite passé à l'algorithme word2vec\n",
    "\n",
    "### A games \n",
    "### On prend la colonne games\n",
    "\n",
    "### A partir de card_history\n",
    "### on recupere l'historique des cartes sorties pour chaque partie On filtre si le champs card_history existe ou si il est vide\n",
    "\n",
    "### A partir de sentances\n",
    "### Pour chaque partie on rassemble toutes les cartes sorties par \"me\" et \"opponent\", puis on recupère le nom des cartes pour crée des phrases.\n"
   ]
  },
  {
   "cell_type": "code",
   "execution_count": null,
   "metadata": {},
   "outputs": [],
   "source": [
    "def createsentances(data):\n",
    "    games = data[\"games\"]\n",
    "    cards = [e[\"card_history\"] for e in games if e.has_key(\"card_history\") and e[\"card_history\"]!=[]]\n",
    "    sentances = []\n",
    "    for c in cards:\n",
    "        sentances.append([e[\"card\"][\"name\"]for e in c if e[\"player\"] == \"me\"])\n",
    "        sentances.append([e[\"card\"][\"name\"]for e in c if e[\"player\"] == \"opponent\"])\n",
    "    return sentances"
   ]
  },
  {
   "cell_type": "markdown",
   "metadata": {},
   "source": [
    "creation de phrase a partir de plusieurs fichier json\n",
    "listfile est une liste de fichier avec leur chemin"
   ]
  },
  {
   "cell_type": "code",
   "execution_count": null,
   "metadata": {},
   "outputs": [],
   "source": [
    "def createsentancesfiles(listfile):\n",
    "    sentances = []\n",
    "    for l in listfile:\n",
    "        data=pd.read_json(l)\n",
    "        sentances += createsentances(data)\n",
    "        del data\n",
    "    return sentances"
   ]
  },
  {
   "cell_type": "code",
   "execution_count": null,
   "metadata": {},
   "outputs": [],
   "source": [
    "directoryHearthstoneGames = \"HeathstoneGames/\"\n",
    "from os import listdir\n",
    "from os.path import isfile, join\n",
    "filesHearthstoneGames = [directoryHearthstoneGames+f for f in listdir(directoryHearthstoneGames) if isfile(join(directoryHearthstoneGames, f))]\n"
   ]
  },
  {
   "cell_type": "code",
   "execution_count": null,
   "metadata": {},
   "outputs": [],
   "source": [
    "sentances = createsentancesfiles(filesHearthstoneGames)"
   ]
  },
  {
   "cell_type": "code",
   "execution_count": 62,
   "metadata": {},
   "outputs": [],
   "source": [
    "data = pd.read_json(\"2018-01.zip\");"
   ]
  },
  {
   "cell_type": "code",
   "execution_count": null,
   "metadata": {},
   "outputs": [],
   "source": [
    "sentances = createsentances(data)"
   ]
  },
  {
   "cell_type": "markdown",
   "metadata": {},
   "source": [
    "\n",
    "# Je prend l'url avec collectible car je ne veux que les cartes disponibles pour faire un deck"
   ]
  },
  {
   "cell_type": "code",
   "execution_count": 1,
   "metadata": {},
   "outputs": [],
   "source": [
    "import requests\n",
    "\n",
    "urlApi = \"https://api.hearthstonejson.com/v1/latest/enUS/cards.collectible.json\"\n",
    "\n",
    "ApiHearthStone = requests.get(urlApi).json()"
   ]
  },
  {
   "cell_type": "code",
   "execution_count": 6,
   "metadata": {},
   "outputs": [],
   "source": [
    "listNameCard = [e[\"name\"] for e in ApiHearthStone]"
   ]
  },
  {
   "cell_type": "markdown",
   "metadata": {},
   "source": [
    "on filtre les cartes des parties à seulement celle disponible pour la construction de deck"
   ]
  },
  {
   "cell_type": "code",
   "execution_count": null,
   "metadata": {},
   "outputs": [],
   "source": [
    "sentances = [filter(lambda x: x in listNameCard, e) for e in sentances]"
   ]
  },
  {
   "cell_type": "markdown",
   "metadata": {},
   "source": [
    "# On va utilisier gensim et plus particulièrement l'algo Word2vec"
   ]
  },
  {
   "cell_type": "code",
   "execution_count": 2,
   "metadata": {},
   "outputs": [],
   "source": [
    "from gensim.models import Word2Vec"
   ]
  },
  {
   "cell_type": "markdown",
   "metadata": {},
   "source": [
    "max_count exclue les mots dont leur nombre d'apparition est inférieure à celui indiqué\n",
    "size nombre de noeuds\n",
    "workers paralléliser sur un nombres de coeurs\n",
    "ier nombre d'epochs"
   ]
  },
  {
   "cell_type": "code",
   "execution_count": null,
   "metadata": {},
   "outputs": [],
   "source": [
    "model = Word2Vec(sentances,min_count=10,size=200,workers=4,iter=100)"
   ]
  },
  {
   "cell_type": "markdown",
   "metadata": {},
   "source": [
    "sauvegarde du model"
   ]
  },
  {
   "cell_type": "code",
   "execution_count": null,
   "metadata": {},
   "outputs": [],
   "source": [
    "model.save(\"word2vecModel\")"
   ]
  },
  {
   "cell_type": "markdown",
   "metadata": {},
   "source": [
    "charger le modele entrainer et de continuer l'entrainement"
   ]
  },
  {
   "cell_type": "code",
   "execution_count": 3,
   "metadata": {},
   "outputs": [],
   "source": [
    "model = Word2Vec.load(\"word2vecModel\")"
   ]
  },
  {
   "cell_type": "markdown",
   "metadata": {},
   "source": [
    "on cree un dictionnaire pour faire correspondre le nom de carte à sa classe\n",
    "utile apres pour verifier que les cartes suggere sont du meme classe que celle déjà dans le deck"
   ]
  },
  {
   "cell_type": "code",
   "execution_count": 55,
   "metadata": {},
   "outputs": [],
   "source": [
    "cardClass = {x[\"name\"]:x[\"cardClass\"] for x in ApiHearthStone}"
   ]
  },
  {
   "cell_type": "markdown",
   "metadata": {},
   "source": [
    "fonction qui creer un deck aleatoire\n",
    "numberscards nombre de carte voulue\n",
    "typecard le type de deck\n",
    "cardClass dictionnaire de carte associer à leur classe"
   ]
  },
  {
   "cell_type": "code",
   "execution_count": 165,
   "metadata": {},
   "outputs": [],
   "source": [
    "import random\n",
    "def createDeck(cardClass,typecard,numbercards):\n",
    "    deck = []\n",
    "    n = [k for k,v in cardClass.iteritems() if(v==typecard or v == \"NEUTRAL\")]\n",
    "    \n",
    "    for i in range(numbercards):\n",
    "        indice = random.randint(0,len(n)-1)\n",
    "        deck.append(n[indice])\n",
    "    return deck"
   ]
  },
  {
   "cell_type": "markdown",
   "metadata": {},
   "source": [
    "proposition de cartes, si deck de taille 30 ou plus aucune proposition"
   ]
  },
  {
   "cell_type": "code",
   "execution_count": 91,
   "metadata": {},
   "outputs": [],
   "source": [
    "def proposeCards(uncompletedDeck,model,dictCardClass,nbcards=2):\n",
    "    cardClass = \"\"\n",
    "    uncompletedDeckInside =  list(uncompletedDeck)\n",
    "    numberMaxCards = 30\n",
    "    if len(uncompletedDeckInside) <1:\n",
    "        raise ValueError(\"it need to have at least 1 card in the uncompleted deck\")\n",
    "    if nbcards < 1:\n",
    "        raise ValueError(\"nbcards can't be under 1\")\n",
    "    if nbcards>10:\n",
    "        nbcards = 10\n",
    "    if len(uncompletedDeckInside) >= numberMaxCards:\n",
    "        return\n",
    "    \n",
    "    #on verifie qu des le départ que 2 classes de cartes ne soient pas presente\n",
    "    #exception à la classe NEUTRAL\n",
    "    \n",
    "    nbClasses = set([dictCardClass[e] for e in myuncompletedDeck])\n",
    "    if len(nbClasses)>2 or (len(nbClasses)==2 and \"NEUTRAL\" not in nbClasses):\n",
    "       raise ValueError(\"Just one class can be present in the uncompleted deck.\\n Exeception for neutrals cards\")\n",
    "    \n",
    "    #on met a jour cardClass qui correpond à la classe du deck en fonction de la classe de cartes proposé \n",
    "    #si toutes les cartes sont neutre\n",
    "    cardClass = [e for e in nbClasses if e != \"NEUTRAL\"]\n",
    "    #si NEUTRAL\n",
    "    if cardClass==[]:\n",
    "        cardClass = \"\"\n",
    "    #si classe\n",
    "    else:\n",
    "        cardClass = cardClass[0]\n",
    "    \n",
    "    #on va essayer de definir une classe de deck en fonction de la proposition on prend les premières jusqu'a une\n",
    "    #carte non neutre\n",
    "    \n",
    "    while len(uncompletedDeckInside)<numberMaxCards:\n",
    "        proposes = model.wv.most_similar(positive=uncompletedDeckInside,topn=5)\n",
    "        if(cardClass==\"\"):\n",
    "            #TODO\n",
    "        diff = numberMaxCards-len(uncompletedDeckInside)\n",
    "        if diff < nbcards :\n",
    "            p = proposes[:diff]\n",
    "        else: \n",
    "            p = proposes\n",
    "        \n",
    "        p = [x[0] for x in p]\n",
    "        uncompletedDeckInside += p  \n",
    "    return uncompletedDeckInside"
   ]
  },
  {
   "cell_type": "code",
   "execution_count": 111,
   "metadata": {},
   "outputs": [],
   "source": [
    "myuncompletedDeck = [\"The Lich King\",\"Loatheb\",\"Abomination\",\"Fireball\",\"Abomination\",\"Fireball\"]\n",
    "\n",
    "#decks = proposeCards(myuncompletedDeck,model,nbcartes=4)\n",
    "decks=[]\n",
    "for i in range(1,3):\n",
    "    decks.append(proposeCards(myuncompletedDeck,model,cardClass,nbcards=i))"
   ]
  },
  {
   "cell_type": "code",
   "execution_count": 185,
   "metadata": {},
   "outputs": [
    {
     "data": {
      "text/plain": [
       "{u'NEUTRAL', u'SHAMAN'}"
      ]
     },
     "execution_count": 185,
     "metadata": {},
     "output_type": "execute_result"
    }
   ],
   "source": [
    "myuncompletedDeck = createDeck(cardClass,\"SHAMAN\",10)\n",
    "set([cardClass[e] for e in myuncompletedDeck])"
   ]
  },
  {
   "cell_type": "code",
   "execution_count": 112,
   "metadata": {},
   "outputs": [
    {
     "name": "stdout",
     "output_type": "stream",
     "text": [
      "set([u'NEUTRAL', u'MAGE'])\n",
      "set([u'NEUTRAL', u'MAGE'])\n"
     ]
    }
   ],
   "source": [
    "for l in decks:\n",
    "    print set([cardClass[e] for e in l])"
   ]
  },
  {
   "cell_type": "code",
   "execution_count": 186,
   "metadata": {},
   "outputs": [
    {
     "data": {
      "text/plain": [
       "[(u'Armored Warhorse', 0.39710289239883423),\n",
       " (u'Maiden of the Lake', 0.3874320387840271),\n",
       " (u'Foe Reaper 4000', 0.38182157278060913),\n",
       " (u'Troggzor the Earthinator', 0.3747220039367676),\n",
       " (u'Micro Machine', 0.3735369145870209)]"
      ]
     },
     "execution_count": 186,
     "metadata": {},
     "output_type": "execute_result"
    }
   ],
   "source": [
    "unc = [\"The Lich King\",\"Fireball\",\"Firelands Portal\",\"Frostbolt\",\"Flamestrike\",\"Polymorph\",\"Arcane Intellect\"]\n",
    "model.wv.most_similar(positive=myuncompletedDeck,topn=5)"
   ]
  }
 ],
 "metadata": {
  "kernelspec": {
   "display_name": "Python 2",
   "language": "python",
   "name": "python2"
  },
  "language_info": {
   "codemirror_mode": {
    "name": "ipython",
    "version": 2
   },
   "file_extension": ".py",
   "mimetype": "text/x-python",
   "name": "python",
   "nbconvert_exporter": "python",
   "pygments_lexer": "ipython2",
   "version": "2.7.12"
  }
 },
 "nbformat": 4,
 "nbformat_minor": 2
}
