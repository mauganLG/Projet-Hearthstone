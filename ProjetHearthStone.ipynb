{
 "cells": [
  {
   "cell_type": "code",
   "execution_count": 1,
   "metadata": {},
   "outputs": [],
   "source": [
    "import pandas as pd"
   ]
  },
  {
   "cell_type": "code",
   "execution_count": 2,
   "metadata": {},
   "outputs": [],
   "source": [
    "data = pd.read_json(\"2018-01.json\");"
   ]
  },
  {
   "cell_type": "markdown",
   "metadata": {},
   "source": [
    "prend la colonne games"
   ]
  },
  {
   "cell_type": "code",
   "execution_count": 3,
   "metadata": {
    "scrolled": true
   },
   "outputs": [],
   "source": [
    "games = data[\"games\"]"
   ]
  },
  {
   "cell_type": "markdown",
   "metadata": {},
   "source": [
    "on recupere l'historique des cartes sorties pour chaque partie\n",
    "On filtre si le champs card_history existe ou si il est vide"
   ]
  },
  {
   "cell_type": "code",
   "execution_count": 4,
   "metadata": {},
   "outputs": [],
   "source": [
    "card_history = []\n",
    "for i in range(0,len(games)):\n",
    "    g = games[i]\n",
    "    if not(g.has_key(\"card_history\")) or g[\"card_history\"] != []:\n",
    "      card_history.append(pd.DataFrame(g[\"card_history\"]))"
   ]
  },
  {
   "cell_type": "markdown",
   "metadata": {},
   "source": [
    "obtenir toutes cartes me pour la premier partie"
   ]
  },
  {
   "cell_type": "markdown",
   "metadata": {},
   "source": [
    "c = card_history[0]\n",
    "me = c[c.player==\"me\"]\n",
    "op = c[c.player==\"opponent\"]\n",
    "me = me['card']\n",
    "op = op['card']\n",
    "\n",
    "sentances = []\n",
    "sentances.append(\" \".join([i[\"name\"].replace(\" \",\"_\") for i in me]))\n",
    "sentances.append(\" \".join([i[\"name\"].replace(\" \",\"_\") for i in op]))\n",
    "\n",
    "print sentances"
   ]
  },
  {
   "cell_type": "markdown",
   "metadata": {},
   "source": [
    "pour chaque partie on rassemble toutes les cartes sorties par \"me\" et \"opponent\"\n",
    "puis on recupère le nom des cartes pour crée des phrases pour les passer ensuite au word2vec plus tard.\n",
    "Pour les noms composés on remplace les espace par des inderscore pour les considérer commme un mot entier  "
   ]
  },
  {
   "cell_type": "code",
   "execution_count": 5,
   "metadata": {},
   "outputs": [],
   "source": [
    "sentances = []"
   ]
  },
  {
   "cell_type": "code",
   "execution_count": 6,
   "metadata": {},
   "outputs": [],
   "source": [
    "for i in range(0,len(card_history)):\n",
    "    c = card_history[i]\n",
    "    me = c[c.player==\"me\"]\n",
    "    op = c[c.player==\"opponent\"]\n",
    "    me = me[\"card\"]\n",
    "    op = op['card']\n",
    "    sentances.append([i[\"name\"].replace(\" \",\"_\") for i in me])\n",
    "    sentances.append([i[\"name\"].replace(\" \",\"_\") for i in op])"
   ]
  },
  {
   "cell_type": "code",
   "execution_count": 15,
   "metadata": {},
   "outputs": [
    {
     "data": {
      "text/plain": [
       "[u'Open_the_Waygate',\n",
       " u'Arcanologist',\n",
       " u'Arcane_Intellect',\n",
       " u'Ghastly_Conjurer',\n",
       " u'The_Coin',\n",
       " u'Mirror_Image',\n",
       " u'Ice_Barrier',\n",
       " u'Novice_Engineer',\n",
       " u'Coldlight_Oracle',\n",
       " u'Ice_Block',\n",
       " u'Primordial_Glyph',\n",
       " u'Arcanologist',\n",
       " u'Coldlight_Oracle',\n",
       " u'Novice_Engineer',\n",
       " u'Doomsayer',\n",
       " u'Simulacrum',\n",
       " u'Frost_Nova',\n",
       " u'Arcane_Intellect',\n",
       " u'Ghastly_Conjurer',\n",
       " u'Mirror_Image',\n",
       " u'Blizzard',\n",
       " u'Doomsayer',\n",
       " u'Fireblast',\n",
       " u\"Sorcerer's_Apprentice\",\n",
       " u\"Sorcerer's_Apprentice\",\n",
       " u\"Sorcerer's_Apprentice\",\n",
       " u'Molten_Reflection',\n",
       " u'Molten_Reflection',\n",
       " u\"Cabalist's_Tome\",\n",
       " u'Greater_Arcane_Missiles',\n",
       " u'Frozen_Clone',\n",
       " u'Time_Warp',\n",
       " u'Archmage_Antonidas',\n",
       " u'Primordial_Glyph',\n",
       " u'Fireball',\n",
       " u'Fireball']"
      ]
     },
     "execution_count": 15,
     "metadata": {},
     "output_type": "execute_result"
    }
   ],
   "source": [
    "sentances[0]"
   ]
  },
  {
   "cell_type": "markdown",
   "metadata": {},
   "source": [
    "on va utilisier gensim et plus particulièrement l'algo Word2vec"
   ]
  },
  {
   "cell_type": "code",
   "execution_count": 10,
   "metadata": {},
   "outputs": [],
   "source": [
    "from gensim.models import Word2Vec"
   ]
  },
  {
   "cell_type": "markdown",
   "metadata": {},
   "source": [
    "max_count exclue les mots dont leur nombre d'aaparition est inférieire à celui indiqué\n",
    "size nombre de layers\n",
    "workers parallélizer sur un nombre de coeurs"
   ]
  },
  {
   "cell_type": "code",
   "execution_count": 11,
   "metadata": {},
   "outputs": [],
   "source": [
    "model = Word2Vec(sentances,min_count=10,size=200,workers=4)"
   ]
  },
  {
   "cell_type": "markdown",
   "metadata": {},
   "source": [
    "sauvegarde du model"
   ]
  },
  {
   "cell_type": "code",
   "execution_count": 12,
   "metadata": {},
   "outputs": [],
   "source": [
    "model.save(\"word2vecModel\")"
   ]
  },
  {
   "cell_type": "markdown",
   "metadata": {},
   "source": [
    "charger le modele entrainer et de continuer l'entrainement\n",
    "model = gensim.models.Word2Vec.load('word2vecModel')\n",
    "model.train(more_sentences)"
   ]
  },
  {
   "cell_type": "markdown",
   "metadata": {},
   "source": [
    "test de la  similarité"
   ]
  },
  {
   "cell_type": "code",
   "execution_count": 18,
   "metadata": {},
   "outputs": [
    {
     "data": {
      "text/plain": [
       "0.7486442340399804"
      ]
     },
     "execution_count": 18,
     "metadata": {},
     "output_type": "execute_result"
    }
   ],
   "source": [
    "model.wv.similarity(\"Sorcerer's_Apprentice\",\"Fireball\")"
   ]
  },
  {
   "cell_type": "code",
   "execution_count": null,
   "metadata": {},
   "outputs": [],
   "source": [
    "model.w"
   ]
  }
 ],
 "metadata": {
  "kernelspec": {
   "display_name": "Python 2",
   "language": "python",
   "name": "python2"
  },
  "language_info": {
   "codemirror_mode": {
    "name": "ipython",
    "version": 2
   },
   "file_extension": ".py",
   "mimetype": "text/x-python",
   "name": "python",
   "nbconvert_exporter": "python",
   "pygments_lexer": "ipython2",
   "version": "2.7.12"
  }
 },
 "nbformat": 4,
 "nbformat_minor": 2
}
