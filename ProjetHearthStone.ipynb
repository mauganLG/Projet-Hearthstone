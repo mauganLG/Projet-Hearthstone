{
 "cells": [
  {
   "cell_type": "code",
   "execution_count": null,
   "metadata": {},
   "outputs": [],
   "source": [
    "import pandas as pd"
   ]
  },
  {
   "cell_type": "markdown",
   "metadata": {},
   "source": [
    "### A partir d'un dataFrame cette methode va récuperer toute les cartes joués et en faire des phrases qui seront en suite passé à l'algorithme word2vec\n",
    "\n",
    "### A games \n",
    "### On prend la colonne games\n",
    "\n",
    "### A partir de card_history\n",
    "### on recupere l'historique des cartes sorties pour chaque partie On filtre si le champs card_history existe ou si il est vide\n",
    "\n",
    "### A partir de sentances\n",
    "### Pour chaque partie on rassemble toutes les cartes sorties par \"me\" et \"opponent\", puis on recupère le nom des cartes pour crée des phrases.\n"
   ]
  },
  {
   "cell_type": "code",
   "execution_count": null,
   "metadata": {},
   "outputs": [],
   "source": [
    "def createsentances(data):\n",
    "    games = data[\"games\"]\n",
    "    cards = [e[\"card_history\"] for e in games if e.has_key(\"card_history\") and e[\"card_history\"]!=[]]\n",
    "    sentances = []\n",
    "    for c in cards:\n",
    "        sentances.append([e[\"card\"][\"name\"]for e in c if e[\"player\"] == \"me\"])\n",
    "        sentances.append([e[\"card\"][\"name\"]for e in c if e[\"player\"] == \"opponent\"])\n",
    "    return sentances"
   ]
  },
  {
   "cell_type": "markdown",
   "metadata": {},
   "source": [
    "creation de phrase a partir de plusieurs fichier json\n",
    "listfile est une liste de fichier avec leur chemin"
   ]
  },
  {
   "cell_type": "code",
   "execution_count": null,
   "metadata": {},
   "outputs": [],
   "source": [
    "def createsentancesfiles(listfile):\n",
    "    sentances = []\n",
    "    for l in listfile:\n",
    "        data=pd.read_json(l)\n",
    "        sentances += createsentances(data)\n",
    "        del data\n",
    "    return sentances"
   ]
  },
  {
   "cell_type": "code",
   "execution_count": null,
   "metadata": {},
   "outputs": [],
   "source": [
    "directoryHearthstoneGames = \"HeathstoneGames/\"\n",
    "from os import listdir\n",
    "from os.path import isfile, join\n",
    "filesHearthstoneGames = [directoryHearthstoneGames+f for f in listdir(directoryHearthstoneGames) if isfile(join(directoryHearthstoneGames, f))]\n"
   ]
  },
  {
   "cell_type": "code",
   "execution_count": null,
   "metadata": {},
   "outputs": [],
   "source": [
    "sentances = createsentancesfiles(filesHearthstoneGames)"
   ]
  },
  {
   "cell_type": "code",
   "execution_count": null,
   "metadata": {},
   "outputs": [],
   "source": [
    "data = pd.read_json(\"2018-01.zip\");"
   ]
  },
  {
   "cell_type": "code",
   "execution_count": null,
   "metadata": {},
   "outputs": [],
   "source": [
    "sentances = createsentances(data)"
   ]
  },
  {
   "cell_type": "markdown",
   "metadata": {},
   "source": [
    "\n",
    "# Je prend l'url avec collectible car je ne veux que les cartes disponibles pour faire un deck"
   ]
  },
  {
   "cell_type": "code",
   "execution_count": null,
   "metadata": {},
   "outputs": [],
   "source": [
    "import requests\n",
    "\n",
    "urlApi = \"https://api.hearthstonejson.com/v1/latest/enUS/cards.collectible.json\"\n",
    "\n",
    "ApiHearthStone = requests.get(urlApi).json()"
   ]
  },
  {
   "cell_type": "code",
   "execution_count": null,
   "metadata": {},
   "outputs": [],
   "source": [
    "listNameCard = [e[\"name\"] for e in ApiHearthStone]"
   ]
  },
  {
   "cell_type": "markdown",
   "metadata": {},
   "source": [
    "on filtre les cartes des parties à seulement celle disponible pour la construction de deck"
   ]
  },
  {
   "cell_type": "code",
   "execution_count": null,
   "metadata": {},
   "outputs": [],
   "source": [
    "sentances = [filter(lambda x: x in listNameCard, e) for e in sentances]"
   ]
  },
  {
   "cell_type": "markdown",
   "metadata": {},
   "source": [
    "# On va utilisier gensim et plus particulièrement l'algo Word2vec"
   ]
  },
  {
   "cell_type": "code",
   "execution_count": null,
   "metadata": {},
   "outputs": [],
   "source": [
    "from gensim.models import Word2Vec"
   ]
  },
  {
   "cell_type": "markdown",
   "metadata": {},
   "source": [
    "max_count exclue les mots dont leur nombre d'apparition est inférieure à celui indiqué\n",
    "size nombre de noeuds\n",
    "workers paralléliser sur un nombres de coeurs\n",
    "ier nombre d'epochs"
   ]
  },
  {
   "cell_type": "code",
   "execution_count": null,
   "metadata": {},
   "outputs": [],
   "source": [
    "model = Word2Vec(sentances,min_count=10,size=200,workers=4,iter=100)"
   ]
  },
  {
   "cell_type": "markdown",
   "metadata": {},
   "source": [
    "sauvegarde du model"
   ]
  },
  {
   "cell_type": "code",
   "execution_count": null,
   "metadata": {},
   "outputs": [],
   "source": [
    "model.save(\"word2vecModel\")"
   ]
  },
  {
   "cell_type": "markdown",
   "metadata": {},
   "source": [
    "charger le modele entrainer et de continuer l'entrainement"
   ]
  },
  {
   "cell_type": "code",
   "execution_count": null,
   "metadata": {},
   "outputs": [],
   "source": [
    "model = Word2Vec.load(\"word2vecModel\")"
   ]
  },
  {
   "cell_type": "markdown",
   "metadata": {},
   "source": [
    "on filtre l'api car nous avons pas besoin des information sur les héros qui ne sont pas joué pas joués par les joueurs\n",
    "on cree un dictionnaire pour faire correspondre le nom d'une carte à sa classe\n",
    "utile apres pour verifier que les cartes suggere sont du meme classe que celle déjà dans le deck"
   ]
  },
  {
   "cell_type": "code",
   "execution_count": null,
   "metadata": {},
   "outputs": [],
   "source": [
    "cardKnowns = model.wv.vocab.keys()\n",
    "ApiHearthStone = filter(lambda x:x[\"name\"] in cardKnowns,ApiHearthStone)\n",
    "cardClass = {x[\"name\"]:x[\"cardClass\"] for x in ApiHearthStone}"
   ]
  },
  {
   "cell_type": "markdown",
   "metadata": {},
   "source": [
    "fonction qui creer un deck aleatoire\n",
    "numberscards nombre de carte voulue\n",
    "typecard le type de deck\n",
    "cardClass dictionnaire de carte associer à leur classe"
   ]
  },
  {
   "cell_type": "code",
   "execution_count": null,
   "metadata": {},
   "outputs": [],
   "source": [
    "import random\n",
    "def createDeck(cardClass,typecard,numbercards):\n",
    "    deck = []\n",
    "    n = [k for k,v in cardClass.iteritems() if(v==typecard or v == \"NEUTRAL\")]\n",
    "    \n",
    "    for i in range(numbercards):\n",
    "        indice = random.randint(0,len(n)-1)\n",
    "        deck.append(n[indice])\n",
    "    return deck"
   ]
  },
  {
   "cell_type": "markdown",
   "metadata": {},
   "source": [
    "proposition de cartes, si deck de taille 30 ou plus aucune proposition"
   ]
  },
  {
   "cell_type": "code",
   "execution_count": null,
   "metadata": {},
   "outputs": [],
   "source": [
    "def proposeCards(uncompletedDeck,model,cardsClass,nbproposes=2):\n",
    "    deckClass = \"\"\n",
    "    uncompletedDeckInside = list(uncompletedDeck)\n",
    "    numberMaxCards = 30\n",
    "    if len(uncompletedDeckInside) <1:\n",
    "        raise ValueError(\"it need to have at least 1 card in the uncompleted deck\")\n",
    "    if len(uncompletedDeckInside) >= numberMaxCards:\n",
    "        return\n",
    "    if nbproposes < 1:\n",
    "        raise ValueError(\"nbcards can't be under 1\")\n",
    "    if nbproposes>5:\n",
    "        nbproposes = 5\n",
    "    \n",
    "    #on verifie qu des le départ que 2 classes de cartes ne soient pas presente\n",
    "    #exception à la classe NEUTRAL\n",
    "    \n",
    "    nbClasses = set([cardsClass[e] for e in myuncompletedDeck])\n",
    "    if len(nbClasses)>2 or (len(nbClasses)==2 and \"NEUTRAL\" not in nbClasses):\n",
    "       raise ValueError(\"Just one class can be present in the uncompleted deck.\\n Exeception for neutrals cards\")\n",
    "    \n",
    "    #on met a jour cardClass qui correpond à la classe du deck en fonction de la classe de cartes proposé \n",
    "    #si toutes les cartes sont neutre\n",
    "    deckClass = [e for e in nbClasses if e != \"NEUTRAL\"]\n",
    "    #si NEUTRAL\n",
    "    if deckClass==[]:\n",
    "        deckClass = \"\"\n",
    "    #si classe\n",
    "    else:\n",
    "        deckClass = deckClass[0]\n",
    "    \n",
    "    #on va essayer de definir une classe de deck en fonction de la proposition on prend les premières jusqu'a une\n",
    "    #carte non neutre\n",
    "    \n",
    "    negativeCards = []\n",
    "    \n",
    "    while len(uncompletedDeckInside)<numberMaxCards:\n",
    "        proposes = model.wv.most_similar(positive=uncompletedDeckInside,negative=negativeCards,topn=nbproposes)\n",
    "        proposes = [x[0] for x in proposes]\n",
    "        \n",
    "        if(deckClass==\"\"):\n",
    "            for e in proposes:\n",
    "                if cardsClass[e] != \"NEUTRAL\":\n",
    "                    deckClass = cardsClass[e]\n",
    "                    break\n",
    "        \n",
    "        negativeCards += [e for e in proposes if cardsClass[e] != \"NEUTRAL\" and cardsClass[e]!=deckClass]\n",
    "        proposes = [e for e in proposes if cardsClass[e] == \"NEUTRAL\" or cardsClass[e]==deckClass]\n",
    "        \n",
    "        diff = numberMaxCards-len(uncompletedDeckInside)\n",
    "        if diff < nbproposes :\n",
    "            proposes = proposes[:diff]\n",
    "       \n",
    "        uncompletedDeckInside += proposes \n",
    "    return uncompletedDeckInside"
   ]
  },
  {
   "cell_type": "code",
   "execution_count": null,
   "metadata": {},
   "outputs": [],
   "source": [
    "myuncompletedDeck = [\"The Lich King\",\"Loatheb\",\"Abomination\"]\n",
    "\n",
    "decks= []\n",
    "\n",
    "for i in range(1,6):\n",
    "    decks.append(proposeCards(myuncompletedDeck,model,cardClass,nbproposes=i))\n",
    "\n",
    "[len(e) for e in decks]\n",
    "\n"
   ]
  },
  {
   "cell_type": "code",
   "execution_count": null,
   "metadata": {},
   "outputs": [],
   "source": [
    "myuncompletedDeck = createDeck(cardClass,\"PALADIN\",16)"
   ]
  },
  {
   "cell_type": "code",
   "execution_count": null,
   "metadata": {},
   "outputs": [],
   "source": [
    "decks= []\n",
    "\n",
    "for i in range(1,12):\n",
    "    decks.append(proposeCards(myuncompletedDeck,model,cardClass,nbproposes=i))\n",
    "\n",
    "[len(e) for e in decks]"
   ]
  },
  {
   "cell_type": "code",
   "execution_count": null,
   "metadata": {},
   "outputs": [],
   "source": [
    "set([cardClass[e] for e in decks[0]])"
   ]
  },
  {
   "cell_type": "code",
   "execution_count": null,
   "metadata": {},
   "outputs": [],
   "source": [
    "for d in decks:\n",
    "    print set([cardClass[e] for e in d])"
   ]
  }
 ],
 "metadata": {
  "kernelspec": {
   "display_name": "Python 2",
   "language": "python",
   "name": "python2"
  },
  "language_info": {
   "codemirror_mode": {
    "name": "ipython",
    "version": 2
   },
   "file_extension": ".py",
   "mimetype": "text/x-python",
   "name": "python",
   "nbconvert_exporter": "python",
   "pygments_lexer": "ipython2",
   "version": "2.7.12"
  }
 },
 "nbformat": 4,
 "nbformat_minor": 2
}
